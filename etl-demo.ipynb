{
 "metadata": {
  "language_info": {
   "codemirror_mode": {
    "name": "ipython",
    "version": 3
   },
   "file_extension": ".py",
   "mimetype": "text/x-python",
   "name": "python",
   "nbconvert_exporter": "python",
   "pygments_lexer": "ipython3",
   "version": "3.8.2-final"
  },
  "orig_nbformat": 2,
  "kernelspec": {
   "name": "python_defaultSpec_1598214769382",
   "display_name": "Python 3.8.2 64-bit"
  }
 },
 "nbformat": 4,
 "nbformat_minor": 2,
 "cells": [
  {
   "cell_type": "code",
   "execution_count": 1,
   "metadata": {},
   "outputs": [],
   "source": [
    "# importando bibliotecas/pacotes\n",
    "import requests\n",
    "import json\n",
    "import pandas as pd\n",
    "import os"
   ]
  },
  {
   "cell_type": "code",
   "execution_count": 2,
   "metadata": {},
   "outputs": [],
   "source": [
    "# guardando o URL de onde requisitaremos dados em uma variavel\n",
    "url = 'https://api.covid19api.com/summary'"
   ]
  },
  {
   "cell_type": "code",
   "execution_count": 3,
   "metadata": {},
   "outputs": [],
   "source": [
    "# fazendo uma requisicao ao URL da API\n",
    "response = requests.get(url)\n",
    "# escrevendo os dados brutos em um JSON na minha pasta\n",
    "with open('./raw_data.json', 'w') as file_output:\n",
    "    json.dump(response.json(), file_output)\n",
    "# ate aqui ja pode ser considerado um processo de EL - Extract and Load"
   ]
  },
  {
   "cell_type": "code",
   "execution_count": 4,
   "metadata": {},
   "outputs": [],
   "source": [
    "# mas digamos que os requisitos sejam que:\n",
    "#    - os dados sejam salvos em um formato estruturado para facilitar a analise, como um CSV\n",
    "#    - so precisamos dos dados do Brasil\n",
    "#    - nao precisamos dos campos \"Slug\", \"CountryCode\" e \"Premium\""
   ]
  },
  {
   "cell_type": "code",
   "execution_count": 5,
   "metadata": {},
   "outputs": [],
   "source": [
    "# hora de um pouco de transformacao!"
   ]
  },
  {
   "cell_type": "code",
   "execution_count": 6,
   "metadata": {
    "tags": []
   },
   "outputs": [],
   "source": [
    "# inicializando uma variavel que tem os dados brutos segmentados\n",
    "data = dict(json.load(open('./raw_data.json')))"
   ]
  },
  {
   "cell_type": "code",
   "execution_count": 7,
   "metadata": {
    "tags": []
   },
   "outputs": [
    {
     "output_type": "stream",
     "name": "stdout",
     "text": "dict_keys(['Global', 'Countries', 'Date'])\n\n\n{'NewConfirmed': 254211, 'TotalConfirmed': 23200844, 'NewDeaths': 5163, 'TotalDeaths': 804375, 'NewRecovered': 199034, 'TotalRecovered': 14910035}\n"
    }
   ],
   "source": [
    "# exemplificando\n",
    "print(data.keys())\n",
    "print(\"\\n\")\n",
    "print(data['Global'])"
   ]
  },
  {
   "cell_type": "code",
   "execution_count": 8,
   "metadata": {},
   "outputs": [],
   "source": [
    "# inicializando uma variavel que contem apenas os dados de cada pais (uma lista de paises com seus respectivos dados)\n",
    "countries_data = data['Countries']"
   ]
  },
  {
   "cell_type": "code",
   "execution_count": 9,
   "metadata": {},
   "outputs": [],
   "source": [
    "# agora quero encontrar o pais 'Brazil' dentro da minha lista de paises\n",
    "for country in countries_data: # para cada pais dentro da minha lista\n",
    "    if country['Country'] == 'Brazil': # se o nome do pais for 'Brazil'\n",
    "        brazil_data = country # armazena os valores dentro de uma variavel chamada brazil_data\n"
   ]
  },
  {
   "cell_type": "code",
   "execution_count": 10,
   "metadata": {
    "tags": []
   },
   "outputs": [
    {
     "output_type": "stream",
     "name": "stdout",
     "text": "{'Country': 'Brazil', 'CountryCode': 'BR', 'Slug': 'brazil', 'NewConfirmed': 50032, 'TotalConfirmed': 3582362, 'NewDeaths': 892, 'TotalDeaths': 114250, 'NewRecovered': 58408, 'TotalRecovered': 2913966, 'Date': '2020-08-23T20:34:26Z', 'Premium': {}}\n"
    }
   ],
   "source": [
    "# mostrando os dados do Brasil\n",
    "print(brazil_data)"
   ]
  },
  {
   "cell_type": "code",
   "execution_count": 11,
   "metadata": {},
   "outputs": [],
   "source": [
    "%%capture\n",
    "# retirando os campos desnecessarios\n",
    "brazil_data.pop('Slug')\n",
    "brazil_data.pop('Premium')\n",
    "brazil_data.pop('CountryCode')"
   ]
  },
  {
   "cell_type": "code",
   "execution_count": 12,
   "metadata": {
    "tags": []
   },
   "outputs": [],
   "source": [
    "# transcrevendo em CSV\n",
    "df = pd.DataFrame.from_dict(brazil_data, orient='index') # lendo o dicionario como um dataframe\n",
    "df = df.T # transpondo linhas para colunas"
   ]
  },
  {
   "cell_type": "code",
   "execution_count": 13,
   "metadata": {
    "tags": []
   },
   "outputs": [
    {
     "output_type": "execute_result",
     "data": {
      "text/plain": "  Country NewConfirmed TotalConfirmed NewDeaths TotalDeaths NewRecovered  \\\n0  Brazil        50032        3582362       892      114250        58408   \n\n  TotalRecovered                  Date  \n0        2913966  2020-08-23T20:34:26Z  ",
      "text/html": "<div>\n<style scoped>\n    .dataframe tbody tr th:only-of-type {\n        vertical-align: middle;\n    }\n\n    .dataframe tbody tr th {\n        vertical-align: top;\n    }\n\n    .dataframe thead th {\n        text-align: right;\n    }\n</style>\n<table border=\"1\" class=\"dataframe\">\n  <thead>\n    <tr style=\"text-align: right;\">\n      <th></th>\n      <th>Country</th>\n      <th>NewConfirmed</th>\n      <th>TotalConfirmed</th>\n      <th>NewDeaths</th>\n      <th>TotalDeaths</th>\n      <th>NewRecovered</th>\n      <th>TotalRecovered</th>\n      <th>Date</th>\n    </tr>\n  </thead>\n  <tbody>\n    <tr>\n      <th>0</th>\n      <td>Brazil</td>\n      <td>50032</td>\n      <td>3582362</td>\n      <td>892</td>\n      <td>114250</td>\n      <td>58408</td>\n      <td>2913966</td>\n      <td>2020-08-23T20:34:26Z</td>\n    </tr>\n  </tbody>\n</table>\n</div>"
     },
     "metadata": {},
     "execution_count": 13
    }
   ],
   "source": [
    "# mostrando os dados\n",
    "df.head()"
   ]
  },
  {
   "cell_type": "code",
   "execution_count": 14,
   "metadata": {},
   "outputs": [],
   "source": [
    "df.to_csv('brazil_data.csv', index=False) # passa o dataframe para um arquivo CSV e remove a coluna de indices"
   ]
  },
  {
   "cell_type": "code",
   "execution_count": 15,
   "metadata": {},
   "outputs": [],
   "source": [
    "# removendo meu \"arquivo de staging\"\n",
    "os.remove('./raw_data.json')"
   ]
  },
  {
   "cell_type": "code",
   "execution_count": 16,
   "metadata": {},
   "outputs": [],
   "source": [
    "# pronto! agora esses dados podem ser consumidos por algum software de analise para alguma visualizacao"
   ]
  }
 ]
}